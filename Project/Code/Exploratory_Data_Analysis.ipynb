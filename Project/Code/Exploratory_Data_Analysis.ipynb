{
 "cells": [
  {
   "cell_type": "markdown",
   "metadata": {},
   "source": [
    "# Biometric Authentication of Smartphone Users with Support Vector Machines\n",
    "**Math189R - Midterm Project**  \n",
    "Nico Espinosa Dice  \n",
    "*April, 2020*"
   ]
  },
  {
   "cell_type": "markdown",
   "metadata": {},
   "source": [
    "## Importing Data"
   ]
  },
  {
   "cell_type": "code",
   "execution_count": 1,
   "metadata": {},
   "outputs": [],
   "source": [
    "import pandas as pd\n",
    "import numpy as np\n",
    "from sklearn import svm\n",
    "from sklearn.model_selection import train_test_split\n",
    "from sklearn import metrics"
   ]
  },
  {
   "cell_type": "code",
   "execution_count": 2,
   "metadata": {},
   "outputs": [],
   "source": [
    "train_data = pd.read_csv(\"../Data/train.csv\")\n",
    "test_data = pd.read_csv(\"../Data/test.csv\")\n",
    "questions = pd.read_csv(\"../Data/questions.csv\")\n",
    "sample_submission = pd.read_csv(\"../Data/sampleSubmission.csv\")"
   ]
  },
  {
   "cell_type": "markdown",
   "metadata": {},
   "source": [
    "## Data Exploration"
   ]
  },
  {
   "cell_type": "markdown",
   "metadata": {},
   "source": [
    "Verifies that the ID's provided in the Device column of train.csv correspond bijectively to the ID's in the QuizDevice column of questions.csv:"
   ]
  },
  {
   "cell_type": "code",
   "execution_count": 3,
   "metadata": {},
   "outputs": [
    {
     "data": {
      "text/plain": [
       "True"
      ]
     },
     "execution_count": 3,
     "metadata": {},
     "output_type": "execute_result"
    }
   ],
   "source": [
    "train_devices = train_data[\"Device\"].tolist()\n",
    "train_devices.sort()\n",
    "train_devices = list(dict.fromkeys(train_devices))\n",
    "\n",
    "quiz_devices = questions[\"QuizDevice\"].tolist()\n",
    "quiz_devices.sort()\n",
    "quiz_devices = list(dict.fromkeys(quiz_devices))\n",
    "\n",
    "train_devices == quiz_devices"
   ]
  },
  {
   "cell_type": "markdown",
   "metadata": {},
   "source": [
    "Shape of datasets:"
   ]
  },
  {
   "cell_type": "code",
   "execution_count": 4,
   "metadata": {},
   "outputs": [
    {
     "name": "stdout",
     "output_type": "stream",
     "text": [
      "train_data shape: (29563983, 5)\n",
      "test_data shape: (27007200, 5)\n"
     ]
    }
   ],
   "source": [
    "print(\"train_data shape:\", train_data.shape)\n",
    "print(\"test_data shape:\", test_data.shape)"
   ]
  },
  {
   "cell_type": "markdown",
   "metadata": {},
   "source": [
    "**Features of training data:**  \n",
    "T = time (Unix time: miliseconds since 1/1/1970)  \n",
    "X = acceleration measured in g on x co-ordinate  \n",
    "Y = acceleration measured in g on y co-ordinate  \n",
    "Z = acceleration measured in g on z co-ordinate  \n",
    "DeviceId = Unique Id of the device that generated the samples"
   ]
  },
  {
   "cell_type": "code",
   "execution_count": 5,
   "metadata": {},
   "outputs": [
    {
     "name": "stdout",
     "output_type": "stream",
     "text": [
      "Index(['T', 'X', 'Y', 'Z', 'Device'], dtype='object')\n"
     ]
    }
   ],
   "source": [
    "print(train_data.columns)"
   ]
  },
  {
   "cell_type": "markdown",
   "metadata": {},
   "source": [
    "## Data Preparation"
   ]
  },
  {
   "cell_type": "markdown",
   "metadata": {},
   "source": [
    "The cell below is commented out because the entire dataset is too large and slow to work with for general testing purposes."
   ]
  },
  {
   "cell_type": "code",
   "execution_count": 6,
   "metadata": {},
   "outputs": [],
   "source": [
    "# Creates a dataset of only the X values: time, x-acceleration, y-acceleration, and z-acceleration\n",
    "# X_train = train_data[[\"T\", \"X\", \"Y\", \"Z\"]]\n",
    "# X_test = test_data[[\"T\", \"X\", \"Y\", \"Z\"]]\n",
    "\n",
    "# # Creates a dataset of the target\n",
    "# y_train = train_data[[\"Device\"]]"
   ]
  },
  {
   "cell_type": "markdown",
   "metadata": {},
   "source": [
    "In the cell below, we take a random subset of the entire dataset to train and test our data on."
   ]
  },
  {
   "cell_type": "code",
   "execution_count": 7,
   "metadata": {},
   "outputs": [],
   "source": [
    "smaller_data = train_data.sample(frac = 0.017)"
   ]
  },
  {
   "cell_type": "code",
   "execution_count": 8,
   "metadata": {},
   "outputs": [
    {
     "name": "stdout",
     "output_type": "stream",
     "text": [
      "                   T         X         Y         Z  Device\n",
      "0       1.336645e+12  0.340509  8.308413  4.140585       7\n",
      "1       1.336645e+12  0.381370  8.390134  4.249548       7\n",
      "2       1.336645e+12  0.272407  8.471856  4.018002       7\n",
      "3       1.336645e+12  0.149824  8.430995  4.290409       7\n",
      "4       1.336645e+12  0.272407  8.430995  4.481094       7\n",
      "...              ...       ...       ...       ...     ...\n",
      "997106  1.337962e+12  2.914754  4.018003  8.049625       9\n",
      "997107  1.337962e+12  2.833032  3.868179  8.499097       9\n",
      "997108  1.337962e+12  2.683209  3.718355  8.390134       9\n",
      "997109  1.337962e+12  1.947710  3.377846  8.281172       9\n",
      "997110  1.337962e+12  3.173541  3.595772  9.615966       9\n",
      "\n",
      "[997111 rows x 5 columns]\n"
     ]
    }
   ],
   "source": [
    "selected_devices = [7, 8, 9]\n",
    "three_devices = train_data.loc[train_data['Device'].isin(selected_devices)]\n",
    "print(three_devices)"
   ]
  },
  {
   "cell_type": "code",
   "execution_count": 9,
   "metadata": {},
   "outputs": [],
   "source": [
    "# new_three_devices = three_devices.sample(frac = 0.5)\n",
    "# print(new_three_devices.shape)"
   ]
  },
  {
   "cell_type": "code",
   "execution_count": 10,
   "metadata": {},
   "outputs": [],
   "source": [
    "# count = 0\n",
    "# new_list = []\n",
    "# new_row = []\n",
    "# new_data = []\n",
    "# for device in selected_devices:\n",
    "#     for index, row in (new_three_devices.loc[new_three_devices['Device'] == device]).iterrows():\n",
    "#         new_list.append([row['T'], row['X'], row['Y'], row['Z']])\n",
    "#         if (count == 0):\n",
    "#             new_row.append(device)\n",
    "#             count += 1\n",
    "#         elif (count == 10):\n",
    "#             new_row.append(new_list)\n",
    "#             new_data.append(new_row)\n",
    "#             new_list = []\n",
    "#             new_row = []\n",
    "#             count = 0\n",
    "#         else:\n",
    "#             count += 1\n",
    "\n",
    "# new_df = pd.DataFrame(new_data, columns = ['Device', 'Array']) "
   ]
  },
  {
   "cell_type": "code",
   "execution_count": 59,
   "metadata": {},
   "outputs": [],
   "source": [
    "# print(new_df)"
   ]
  },
  {
   "cell_type": "code",
   "execution_count": 18,
   "metadata": {},
   "outputs": [
    {
     "name": "stdout",
     "output_type": "stream",
     "text": [
      "[7, 8, 9, 12, 23, 25, 26, 27, 33, 37]\n",
      "387\n"
     ]
    }
   ],
   "source": [
    "# num_devices = 10\n",
    "# devices = [7, 8, 9, 12, 23, 25, 26, 27, 33, 37, 39, 45, 47, 51, 52, 57, 58, 65, 67, 68, 70, 71, 73, 74, 75, 78, 79, 81, 87, 89, 90, 91, 92, 94, 95, 96, 99, 104, 105, 108, 110, 111, 116, 117, 120, 122, 124, 126, 127, 129, 134, 137, 142, 145, 148, 149, 152, 156, 157, 158, 159, 162, 163, 168, 169, 174, 175, 177, 183, 187, 188, 189, 190, 194, 196, 204, 206, 207, 211, 213, 216, 219, 222, 224, 229, 232, 233, 234, 236, 237, 239, 240, 261, 263, 268, 269, 270, 271, 273, 274, 275, 277, 281, 282, 283, 284, 285, 289, 290, 291, 294, 296, 297, 298, 299, 302, 306, 309, 312, 313, 314, 323, 325, 333, 335, 338, 341, 343, 344, 345, 350, 360, 361, 366, 369, 370, 371, 376, 378, 381, 390, 394, 398, 399, 401, 404, 411, 412, 413, 415, 417, 421, 422, 423, 425, 433, 438, 447, 448, 455, 461, 463, 466, 471, 473, 477, 478, 479, 482, 485, 486, 487, 491, 492, 494, 501, 503, 505, 507, 509, 514, 515, 518, 520, 523, 524, 528, 531, 533, 534, 536, 537, 539, 547, 550, 552, 553, 554, 556, 557, 562, 568, 571, 573, 574, 575, 577, 579, 580, 581, 583, 589, 593, 594, 595, 596, 600, 601, 607, 610, 611, 612, 613, 614, 617, 621, 622, 626, 627, 629, 632, 634, 638, 640, 642, 643, 646, 647, 650, 653, 656, 658, 660, 661, 663, 664, 665, 666, 667, 669, 670, 671, 674, 675, 676, 678, 679, 680, 681, 682, 683, 684, 687, 688, 690, 691, 692, 694, 696, 698, 699, 700, 703, 705, 706, 709, 710, 711, 713, 714, 720, 721, 722, 727, 728, 729, 730, 732, 735, 736, 738, 739, 745, 746, 750, 751, 754, 755, 757, 761, 762, 763, 764, 768, 770, 774, 776, 781, 782, 784, 789, 792, 793, 795, 801, 802, 804, 805, 806, 810, 812, 814, 818, 820, 823, 824, 827, 834, 836, 838, 839, 841, 842, 846, 847, 848, 854, 857, 859, 860, 862, 864, 868, 870, 871, 877, 880, 882, 883, 887, 890, 895, 897, 900, 911, 912, 913, 919, 933, 941, 943, 945, 953, 955, 956, 967, 973, 977, 979, 983, 987, 991, 992, 996, 997, 998, 1000, 1006, 1015, 1017, 1027, 1029, 1031, 1033, 1035, 1036, 1037]\n",
    "# selected_devices = []\n",
    "\n",
    "# for i in range(num_devices):\n",
    "#     selected_devices.append(devices[i])\n",
    "    \n",
    "# print(selected_devices)"
   ]
  },
  {
   "cell_type": "code",
   "execution_count": 60,
   "metadata": {},
   "outputs": [],
   "source": [
    "X_train, X_test, y_train, y_test = train_test_split(three_devices[[\"T\", \"X\", \"Y\", \"Z\"]], three_devices.Device, test_size=0.3, random_state = 1)\n",
    "\n"
   ]
  },
  {
   "cell_type": "code",
   "execution_count": 61,
   "metadata": {},
   "outputs": [
    {
     "data": {
      "text/plain": [
       "(697977, 4)"
      ]
     },
     "execution_count": 61,
     "metadata": {},
     "output_type": "execute_result"
    }
   ],
   "source": [
    "# new shape\n",
    "X_train.shape"
   ]
  },
  {
   "cell_type": "markdown",
   "metadata": {},
   "source": [
    "Variance of features:"
   ]
  },
  {
   "cell_type": "code",
   "execution_count": 62,
   "metadata": {},
   "outputs": [
    {
     "data": {
      "text/plain": [
       "T    9.527624e+18\n",
       "X    7.083804e+00\n",
       "Y    1.307122e+01\n",
       "Z    1.911240e+01\n",
       "dtype: float64"
      ]
     },
     "execution_count": 62,
     "metadata": {},
     "output_type": "execute_result"
    }
   ],
   "source": [
    "X_train.var()"
   ]
  },
  {
   "cell_type": "code",
   "execution_count": 72,
   "metadata": {},
   "outputs": [
    {
     "data": {
      "text/html": [
       "<div>\n",
       "<style scoped>\n",
       "    .dataframe tbody tr th:only-of-type {\n",
       "        vertical-align: middle;\n",
       "    }\n",
       "\n",
       "    .dataframe tbody tr th {\n",
       "        vertical-align: top;\n",
       "    }\n",
       "\n",
       "    .dataframe thead th {\n",
       "        text-align: right;\n",
       "    }\n",
       "</style>\n",
       "<table border=\"1\" class=\"dataframe\">\n",
       "  <thead>\n",
       "    <tr style=\"text-align: right;\">\n",
       "      <th></th>\n",
       "      <th>T</th>\n",
       "      <th>X</th>\n",
       "      <th>Y</th>\n",
       "      <th>Z</th>\n",
       "    </tr>\n",
       "  </thead>\n",
       "  <tbody>\n",
       "    <tr>\n",
       "      <th>194197</th>\n",
       "      <td>1.338545e+12</td>\n",
       "      <td>-0.272407</td>\n",
       "      <td>5.897611</td>\n",
       "      <td>6.932756</td>\n",
       "    </tr>\n",
       "    <tr>\n",
       "      <th>23097</th>\n",
       "      <td>1.337093e+12</td>\n",
       "      <td>0.231546</td>\n",
       "      <td>8.853226</td>\n",
       "      <td>3.377846</td>\n",
       "    </tr>\n",
       "    <tr>\n",
       "      <th>722138</th>\n",
       "      <td>1.344085e+12</td>\n",
       "      <td>0.612916</td>\n",
       "      <td>3.990762</td>\n",
       "      <td>8.812365</td>\n",
       "    </tr>\n",
       "    <tr>\n",
       "      <th>430222</th>\n",
       "      <td>1.342111e+12</td>\n",
       "      <td>-0.340509</td>\n",
       "      <td>7.858941</td>\n",
       "      <td>5.053148</td>\n",
       "    </tr>\n",
       "    <tr>\n",
       "      <th>2081</th>\n",
       "      <td>1.336646e+12</td>\n",
       "      <td>4.671779</td>\n",
       "      <td>8.008764</td>\n",
       "      <td>-0.190686</td>\n",
       "    </tr>\n",
       "  </tbody>\n",
       "</table>\n",
       "</div>"
      ],
      "text/plain": [
       "                   T         X         Y         Z\n",
       "194197  1.338545e+12 -0.272407  5.897611  6.932756\n",
       "23097   1.337093e+12  0.231546  8.853226  3.377846\n",
       "722138  1.344085e+12  0.612916  3.990762  8.812365\n",
       "430222  1.342111e+12 -0.340509  7.858941  5.053148\n",
       "2081    1.336646e+12  4.671779  8.008764 -0.190686"
      ]
     },
     "execution_count": 72,
     "metadata": {},
     "output_type": "execute_result"
    }
   ],
   "source": [
    "X_test.head()"
   ]
  },
  {
   "cell_type": "markdown",
   "metadata": {},
   "source": [
    "## Model Implementation"
   ]
  },
  {
   "cell_type": "markdown",
   "metadata": {},
   "source": [
    "Create a classification SVM with a Radial Basis Function kernel"
   ]
  },
  {
   "cell_type": "code",
   "execution_count": 63,
   "metadata": {},
   "outputs": [],
   "source": [
    "svm_model = svm.SVC(kernel='rbf')"
   ]
  },
  {
   "cell_type": "markdown",
   "metadata": {},
   "source": [
    "Trains the svm on train_data"
   ]
  },
  {
   "cell_type": "code",
   "execution_count": null,
   "metadata": {},
   "outputs": [],
   "source": [
    "svm_model.fit(X_train, y_train)"
   ]
  },
  {
   "cell_type": "markdown",
   "metadata": {},
   "source": [
    "## Model Prediction and Evaluation"
   ]
  },
  {
   "cell_type": "markdown",
   "metadata": {},
   "source": [
    "Outputs prediction of svm for test_data inputs"
   ]
  },
  {
   "cell_type": "code",
   "execution_count": null,
   "metadata": {},
   "outputs": [],
   "source": [
    "y_pred = svm_model.predict(X_test)"
   ]
  },
  {
   "cell_type": "markdown",
   "metadata": {},
   "source": [
    "Evaluates model's accuracy (i.e how many times the model predicts the correct classification)"
   ]
  },
  {
   "cell_type": "code",
   "execution_count": null,
   "metadata": {},
   "outputs": [],
   "source": [
    "print(\"Accuracy:\", metrics.accuracy_score(y_test, y_pred))"
   ]
  },
  {
   "cell_type": "markdown",
   "metadata": {},
   "source": [
    "## Saving Model"
   ]
  },
  {
   "cell_type": "markdown",
   "metadata": {},
   "source": [
    "Saves model to file"
   ]
  },
  {
   "cell_type": "code",
   "execution_count": null,
   "metadata": {},
   "outputs": [],
   "source": [
    "from joblib import dump, load\n",
    "dump(svm_model, 'svm_2.joblib')"
   ]
  },
  {
   "cell_type": "code",
   "execution_count": null,
   "metadata": {},
   "outputs": [],
   "source": [
    "new_svm = load('svm_2.joblib')"
   ]
  }
 ],
 "metadata": {
  "kernelspec": {
   "display_name": "Python 3",
   "language": "python",
   "name": "python3"
  },
  "language_info": {
   "codemirror_mode": {
    "name": "ipython",
    "version": 3
   },
   "file_extension": ".py",
   "mimetype": "text/x-python",
   "name": "python",
   "nbconvert_exporter": "python",
   "pygments_lexer": "ipython3",
   "version": "3.7.6"
  }
 },
 "nbformat": 4,
 "nbformat_minor": 2
}
